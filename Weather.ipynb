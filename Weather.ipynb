{
 "cells": [
  {
   "cell_type": "code",
   "execution_count": 1,
   "metadata": {},
   "outputs": [
    {
     "name": "stderr",
     "output_type": "stream",
     "text": [
      "Using TensorFlow backend.\n"
     ]
    }
   ],
   "source": [
    "import pandas as pd\n",
    "import numpy as np\n",
    "from datetime import datetime\n",
    "import matplotlib.pyplot as plt\n",
    "import folium\n",
    "import warnings\n",
    "warnings.filterwarnings('ignore')\n",
    "from statsmodels.graphics.tsaplots import plot_acf , plot_pacf\n",
    "from stldecompose import decompose, forecast\n",
    "from stldecompose.forecast_funcs import (naive,\n",
    "                                         drift, \n",
    "                                         mean, \n",
    "                                         seasonal_naive)\n",
    "\n",
    "from statsmodels.tsa.stattools import adfuller\n",
    "import matplotlib.pyplot as plt\n",
    "import matplotlib.ticker as ticker\n",
    "from matplotlib.pylab import rcParams\n",
    "import re\n",
    "from statsmodels.graphics.tsaplots import plot_acf , plot_pacf\n",
    "from statsmodels.tsa.seasonal import seasonal_decompose\n",
    "from statsmodels.tsa.stattools import grangercausalitytests\n",
    "from stldecompose import decompose, forecast\n",
    "from stldecompose.forecast_funcs import (naive,\n",
    "                                         drift, \n",
    "                                         mean, \n",
    "                                         seasonal_naive)\n",
    "from pandas import Grouper\n",
    "import warnings\n",
    "warnings.filterwarnings(\"ignore\")\n",
    "import seaborn as sns\n",
    "import time\n",
    "from keras.layers.core import Dense, Activation, Dropout\n",
    "from keras.layers.recurrent import LSTM\n",
    "from keras.models import Sequential\n",
    "from statsmodels.tsa.arima_model import ARIMA\n",
    "from sklearn.metrics import mean_squared_error\n",
    "from sklearn.metrics import r2_score\n",
    "\n",
    "%matplotlib inline"
   ]
  },
  {
   "cell_type": "code",
   "execution_count": 2,
   "metadata": {},
   "outputs": [],
   "source": [
    "import geopandas"
   ]
  },
  {
   "cell_type": "markdown",
   "metadata": {},
   "source": [
    "> ## Energy Prices from EIA https://www.eia.gov/\n",
    "> ## Weather Data https://www.ncdc.noaa.gov/\n",
    "> ## Global Energy Consumption https://yearbook.enerdata.net/total-energy/world-consumption-statistics.html\n",
    "> ### Dapeng LNG terminal - main terminal for importing LNG in China\n",
    "> ### Shenzhen LNG main terminal  major city in Guangdong Province, China"
   ]
  },
  {
   "cell_type": "code",
   "execution_count": 3,
   "metadata": {
    "scrolled": true
   },
   "outputs": [
    {
     "data": {
      "text/html": [
       "<div style=\"width:100%;\"><div style=\"position:relative;width:100%;height:0;padding-bottom:60%;\"><iframe src=\"data:text/html;charset=utf-8;base64,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\" style=\"position:absolute;width:100%;height:100%;left:0;top:0;border:none !important;\" allowfullscreen webkitallowfullscreen mozallowfullscreen></iframe></div></div>"
      ],
      "text/plain": [
       "<folium.folium.Map at 0x1c37488ef0>"
      ]
     },
     "execution_count": 3,
     "metadata": {},
     "output_type": "execute_result"
    }
   ],
   "source": [
    "map_hooray = folium.Map(location=[31.4, 121.467],\n",
    "                    zoom_start = 4, ) # Uses lat then lon. The bigger the zoom number, the closer in you get\n",
    "map_hooray"
   ]
  },
  {
   "cell_type": "code",
   "execution_count": 4,
   "metadata": {},
   "outputs": [],
   "source": [
    "asiaweather= pd.read_csv('AsiaWeather.csv')\n",
    "nychouston = pd.read_csv('HoustonNYCweather.csv')"
   ]
  },
  {
   "cell_type": "code",
   "execution_count": 5,
   "metadata": {},
   "outputs": [
    {
     "data": {
      "text/html": [
       "<div>\n",
       "<style scoped>\n",
       "    .dataframe tbody tr th:only-of-type {\n",
       "        vertical-align: middle;\n",
       "    }\n",
       "\n",
       "    .dataframe tbody tr th {\n",
       "        vertical-align: top;\n",
       "    }\n",
       "\n",
       "    .dataframe thead th {\n",
       "        text-align: right;\n",
       "    }\n",
       "</style>\n",
       "<table border=\"1\" class=\"dataframe\">\n",
       "  <thead>\n",
       "    <tr style=\"text-align: right;\">\n",
       "      <th></th>\n",
       "      <th>STATION</th>\n",
       "      <th>NAME</th>\n",
       "      <th>DATE</th>\n",
       "      <th>TAVG</th>\n",
       "      <th>TMAX</th>\n",
       "      <th>TMIN</th>\n",
       "      <th>WT01</th>\n",
       "      <th>WT02</th>\n",
       "      <th>WT03</th>\n",
       "      <th>WT04</th>\n",
       "      <th>WT05</th>\n",
       "      <th>WT08</th>\n",
       "      <th>WT11</th>\n",
       "      <th>WT13</th>\n",
       "      <th>WT14</th>\n",
       "      <th>WT16</th>\n",
       "      <th>WT18</th>\n",
       "      <th>WT21</th>\n",
       "      <th>WV20</th>\n",
       "    </tr>\n",
       "  </thead>\n",
       "  <tbody>\n",
       "    <tr>\n",
       "      <th>0</th>\n",
       "      <td>KSM00047108</td>\n",
       "      <td>SEOUL CITY, KS</td>\n",
       "      <td>1997-01-01</td>\n",
       "      <td>23.0</td>\n",
       "      <td>46.0</td>\n",
       "      <td>NaN</td>\n",
       "      <td>NaN</td>\n",
       "      <td>NaN</td>\n",
       "      <td>NaN</td>\n",
       "      <td>NaN</td>\n",
       "      <td>NaN</td>\n",
       "      <td>NaN</td>\n",
       "      <td>NaN</td>\n",
       "      <td>NaN</td>\n",
       "      <td>NaN</td>\n",
       "      <td>NaN</td>\n",
       "      <td>NaN</td>\n",
       "      <td>NaN</td>\n",
       "      <td>NaN</td>\n",
       "    </tr>\n",
       "    <tr>\n",
       "      <th>1</th>\n",
       "      <td>KSM00047108</td>\n",
       "      <td>SEOUL CITY, KS</td>\n",
       "      <td>1997-01-02</td>\n",
       "      <td>17.0</td>\n",
       "      <td>23.0</td>\n",
       "      <td>12.0</td>\n",
       "      <td>NaN</td>\n",
       "      <td>NaN</td>\n",
       "      <td>NaN</td>\n",
       "      <td>NaN</td>\n",
       "      <td>NaN</td>\n",
       "      <td>NaN</td>\n",
       "      <td>NaN</td>\n",
       "      <td>NaN</td>\n",
       "      <td>NaN</td>\n",
       "      <td>NaN</td>\n",
       "      <td>NaN</td>\n",
       "      <td>NaN</td>\n",
       "      <td>NaN</td>\n",
       "    </tr>\n",
       "    <tr>\n",
       "      <th>2</th>\n",
       "      <td>KSM00047108</td>\n",
       "      <td>SEOUL CITY, KS</td>\n",
       "      <td>1997-01-03</td>\n",
       "      <td>20.0</td>\n",
       "      <td>27.0</td>\n",
       "      <td>14.0</td>\n",
       "      <td>NaN</td>\n",
       "      <td>NaN</td>\n",
       "      <td>NaN</td>\n",
       "      <td>NaN</td>\n",
       "      <td>NaN</td>\n",
       "      <td>NaN</td>\n",
       "      <td>NaN</td>\n",
       "      <td>NaN</td>\n",
       "      <td>NaN</td>\n",
       "      <td>NaN</td>\n",
       "      <td>NaN</td>\n",
       "      <td>NaN</td>\n",
       "      <td>NaN</td>\n",
       "    </tr>\n",
       "    <tr>\n",
       "      <th>3</th>\n",
       "      <td>KSM00047108</td>\n",
       "      <td>SEOUL CITY, KS</td>\n",
       "      <td>1997-01-04</td>\n",
       "      <td>27.0</td>\n",
       "      <td>34.0</td>\n",
       "      <td>14.0</td>\n",
       "      <td>NaN</td>\n",
       "      <td>NaN</td>\n",
       "      <td>NaN</td>\n",
       "      <td>NaN</td>\n",
       "      <td>NaN</td>\n",
       "      <td>NaN</td>\n",
       "      <td>NaN</td>\n",
       "      <td>NaN</td>\n",
       "      <td>NaN</td>\n",
       "      <td>NaN</td>\n",
       "      <td>NaN</td>\n",
       "      <td>NaN</td>\n",
       "      <td>NaN</td>\n",
       "    </tr>\n",
       "    <tr>\n",
       "      <th>4</th>\n",
       "      <td>KSM00047108</td>\n",
       "      <td>SEOUL CITY, KS</td>\n",
       "      <td>1997-01-05</td>\n",
       "      <td>26.0</td>\n",
       "      <td>35.0</td>\n",
       "      <td>NaN</td>\n",
       "      <td>NaN</td>\n",
       "      <td>NaN</td>\n",
       "      <td>NaN</td>\n",
       "      <td>NaN</td>\n",
       "      <td>NaN</td>\n",
       "      <td>NaN</td>\n",
       "      <td>NaN</td>\n",
       "      <td>NaN</td>\n",
       "      <td>NaN</td>\n",
       "      <td>NaN</td>\n",
       "      <td>NaN</td>\n",
       "      <td>NaN</td>\n",
       "      <td>NaN</td>\n",
       "    </tr>\n",
       "  </tbody>\n",
       "</table>\n",
       "</div>"
      ],
      "text/plain": [
       "       STATION            NAME        DATE  TAVG  TMAX  TMIN  WT01  WT02  \\\n",
       "0  KSM00047108  SEOUL CITY, KS  1997-01-01  23.0  46.0   NaN   NaN   NaN   \n",
       "1  KSM00047108  SEOUL CITY, KS  1997-01-02  17.0  23.0  12.0   NaN   NaN   \n",
       "2  KSM00047108  SEOUL CITY, KS  1997-01-03  20.0  27.0  14.0   NaN   NaN   \n",
       "3  KSM00047108  SEOUL CITY, KS  1997-01-04  27.0  34.0  14.0   NaN   NaN   \n",
       "4  KSM00047108  SEOUL CITY, KS  1997-01-05  26.0  35.0   NaN   NaN   NaN   \n",
       "\n",
       "   WT03  WT04  WT05  WT08  WT11  WT13  WT14  WT16  WT18  WT21  WV20  \n",
       "0   NaN   NaN   NaN   NaN   NaN   NaN   NaN   NaN   NaN   NaN   NaN  \n",
       "1   NaN   NaN   NaN   NaN   NaN   NaN   NaN   NaN   NaN   NaN   NaN  \n",
       "2   NaN   NaN   NaN   NaN   NaN   NaN   NaN   NaN   NaN   NaN   NaN  \n",
       "3   NaN   NaN   NaN   NaN   NaN   NaN   NaN   NaN   NaN   NaN   NaN  \n",
       "4   NaN   NaN   NaN   NaN   NaN   NaN   NaN   NaN   NaN   NaN   NaN  "
      ]
     },
     "execution_count": 5,
     "metadata": {},
     "output_type": "execute_result"
    }
   ],
   "source": [
    "asiaweather.head()"
   ]
  },
  {
   "cell_type": "code",
   "execution_count": 6,
   "metadata": {},
   "outputs": [
    {
     "data": {
      "text/html": [
       "<div>\n",
       "<style scoped>\n",
       "    .dataframe tbody tr th:only-of-type {\n",
       "        vertical-align: middle;\n",
       "    }\n",
       "\n",
       "    .dataframe tbody tr th {\n",
       "        vertical-align: top;\n",
       "    }\n",
       "\n",
       "    .dataframe thead th {\n",
       "        text-align: right;\n",
       "    }\n",
       "</style>\n",
       "<table border=\"1\" class=\"dataframe\">\n",
       "  <thead>\n",
       "    <tr style=\"text-align: right;\">\n",
       "      <th></th>\n",
       "      <th>STATION</th>\n",
       "      <th>NAME</th>\n",
       "      <th>DATE</th>\n",
       "      <th>TAVG</th>\n",
       "      <th>TMAX</th>\n",
       "      <th>TMIN</th>\n",
       "    </tr>\n",
       "  </thead>\n",
       "  <tbody>\n",
       "    <tr>\n",
       "      <th>0</th>\n",
       "      <td>USW00094789</td>\n",
       "      <td>JFK INTERNATIONAL AIRPORT, NY US</td>\n",
       "      <td>1997-01-01</td>\n",
       "      <td>NaN</td>\n",
       "      <td>28.0</td>\n",
       "      <td>12.0</td>\n",
       "    </tr>\n",
       "    <tr>\n",
       "      <th>1</th>\n",
       "      <td>USW00094789</td>\n",
       "      <td>JFK INTERNATIONAL AIRPORT, NY US</td>\n",
       "      <td>1997-01-02</td>\n",
       "      <td>NaN</td>\n",
       "      <td>42.0</td>\n",
       "      <td>28.0</td>\n",
       "    </tr>\n",
       "    <tr>\n",
       "      <th>2</th>\n",
       "      <td>USW00094789</td>\n",
       "      <td>JFK INTERNATIONAL AIRPORT, NY US</td>\n",
       "      <td>1997-01-03</td>\n",
       "      <td>NaN</td>\n",
       "      <td>59.0</td>\n",
       "      <td>42.0</td>\n",
       "    </tr>\n",
       "    <tr>\n",
       "      <th>3</th>\n",
       "      <td>USW00094789</td>\n",
       "      <td>JFK INTERNATIONAL AIRPORT, NY US</td>\n",
       "      <td>1997-01-04</td>\n",
       "      <td>NaN</td>\n",
       "      <td>52.0</td>\n",
       "      <td>41.0</td>\n",
       "    </tr>\n",
       "    <tr>\n",
       "      <th>4</th>\n",
       "      <td>USW00094789</td>\n",
       "      <td>JFK INTERNATIONAL AIRPORT, NY US</td>\n",
       "      <td>1997-01-05</td>\n",
       "      <td>NaN</td>\n",
       "      <td>53.0</td>\n",
       "      <td>45.0</td>\n",
       "    </tr>\n",
       "  </tbody>\n",
       "</table>\n",
       "</div>"
      ],
      "text/plain": [
       "       STATION                              NAME        DATE  TAVG  TMAX  TMIN\n",
       "0  USW00094789  JFK INTERNATIONAL AIRPORT, NY US  1997-01-01   NaN  28.0  12.0\n",
       "1  USW00094789  JFK INTERNATIONAL AIRPORT, NY US  1997-01-02   NaN  42.0  28.0\n",
       "2  USW00094789  JFK INTERNATIONAL AIRPORT, NY US  1997-01-03   NaN  59.0  42.0\n",
       "3  USW00094789  JFK INTERNATIONAL AIRPORT, NY US  1997-01-04   NaN  52.0  41.0\n",
       "4  USW00094789  JFK INTERNATIONAL AIRPORT, NY US  1997-01-05   NaN  53.0  45.0"
      ]
     },
     "execution_count": 6,
     "metadata": {},
     "output_type": "execute_result"
    }
   ],
   "source": [
    "nychouston.head()"
   ]
  },
  {
   "cell_type": "code",
   "execution_count": 7,
   "metadata": {},
   "outputs": [
    {
     "data": {
      "text/plain": [
       "dtype('O')"
      ]
     },
     "execution_count": 7,
     "metadata": {},
     "output_type": "execute_result"
    }
   ],
   "source": [
    "asiaweather['DATE'].dtype"
   ]
  },
  {
   "cell_type": "code",
   "execution_count": 8,
   "metadata": {},
   "outputs": [],
   "source": [
    "asiaweather['DATE']= pd.to_datetime(asiaweather['DATE'])"
   ]
  },
  {
   "cell_type": "code",
   "execution_count": 9,
   "metadata": {},
   "outputs": [],
   "source": [
    "nychouston['DATE']= pd.to_datetime(nychouston['DATE'])"
   ]
  },
  {
   "cell_type": "code",
   "execution_count": 10,
   "metadata": {},
   "outputs": [],
   "source": [
    "asiaweather.set_index('DATE', inplace=True)"
   ]
  },
  {
   "cell_type": "code",
   "execution_count": 11,
   "metadata": {},
   "outputs": [],
   "source": [
    "nychouston.set_index('DATE', inplace=True)"
   ]
  },
  {
   "cell_type": "code",
   "execution_count": 12,
   "metadata": {},
   "outputs": [
    {
     "data": {
      "text/plain": [
       "2519"
      ]
     },
     "execution_count": 12,
     "metadata": {},
     "output_type": "execute_result"
    }
   ],
   "source": [
    "asiaweather['TAVG'].isnull().sum()"
   ]
  },
  {
   "cell_type": "code",
   "execution_count": 13,
   "metadata": {},
   "outputs": [
    {
     "data": {
      "text/plain": [
       "6519"
      ]
     },
     "execution_count": 13,
     "metadata": {},
     "output_type": "execute_result"
    }
   ],
   "source": [
    "nychouston['TAVG'].isnull().sum()"
   ]
  },
  {
   "cell_type": "code",
   "execution_count": 14,
   "metadata": {},
   "outputs": [],
   "source": [
    "asiaweather = asiaweather[['STATION','NAME','TAVG','TMAX','TMIN']]\n",
    "nychouston = nychouston[['STATION','NAME','TAVG','TMAX','TMIN']]"
   ]
  },
  {
   "cell_type": "code",
   "execution_count": 15,
   "metadata": {},
   "outputs": [],
   "source": [
    "asiaweather['TAVG'].fillna(((asiaweather['TMAX']+asiaweather['TMIN'])/2), inplace= True)"
   ]
  },
  {
   "cell_type": "code",
   "execution_count": 16,
   "metadata": {},
   "outputs": [],
   "source": [
    "nychouston['TAVG'].fillna(((nychouston['TMAX']+nychouston['TMIN'])/2), inplace= True)"
   ]
  },
  {
   "cell_type": "code",
   "execution_count": 17,
   "metadata": {},
   "outputs": [
    {
     "data": {
      "text/plain": [
       "188"
      ]
     },
     "execution_count": 17,
     "metadata": {},
     "output_type": "execute_result"
    }
   ],
   "source": [
    "asiaweather['TAVG'].isna().sum()"
   ]
  },
  {
   "cell_type": "code",
   "execution_count": 18,
   "metadata": {},
   "outputs": [
    {
     "data": {
      "text/plain": [
       "0"
      ]
     },
     "execution_count": 18,
     "metadata": {},
     "output_type": "execute_result"
    }
   ],
   "source": [
    "nychouston['TAVG'].isna().sum()"
   ]
  },
  {
   "cell_type": "code",
   "execution_count": 19,
   "metadata": {},
   "outputs": [
    {
     "data": {
      "text/html": [
       "<div>\n",
       "<style scoped>\n",
       "    .dataframe tbody tr th:only-of-type {\n",
       "        vertical-align: middle;\n",
       "    }\n",
       "\n",
       "    .dataframe tbody tr th {\n",
       "        vertical-align: top;\n",
       "    }\n",
       "\n",
       "    .dataframe thead th {\n",
       "        text-align: right;\n",
       "    }\n",
       "</style>\n",
       "<table border=\"1\" class=\"dataframe\">\n",
       "  <thead>\n",
       "    <tr style=\"text-align: right;\">\n",
       "      <th></th>\n",
       "      <th>STATION</th>\n",
       "      <th>NAME</th>\n",
       "      <th>TAVG</th>\n",
       "      <th>TMAX</th>\n",
       "      <th>TMIN</th>\n",
       "    </tr>\n",
       "    <tr>\n",
       "      <th>DATE</th>\n",
       "      <th></th>\n",
       "      <th></th>\n",
       "      <th></th>\n",
       "      <th></th>\n",
       "      <th></th>\n",
       "    </tr>\n",
       "  </thead>\n",
       "  <tbody>\n",
       "    <tr>\n",
       "      <th>1997-01-01</th>\n",
       "      <td>KSM00047108</td>\n",
       "      <td>SEOUL CITY, KS</td>\n",
       "      <td>23.0</td>\n",
       "      <td>46.0</td>\n",
       "      <td>NaN</td>\n",
       "    </tr>\n",
       "    <tr>\n",
       "      <th>1997-01-02</th>\n",
       "      <td>KSM00047108</td>\n",
       "      <td>SEOUL CITY, KS</td>\n",
       "      <td>17.0</td>\n",
       "      <td>23.0</td>\n",
       "      <td>12.0</td>\n",
       "    </tr>\n",
       "    <tr>\n",
       "      <th>1997-01-03</th>\n",
       "      <td>KSM00047108</td>\n",
       "      <td>SEOUL CITY, KS</td>\n",
       "      <td>20.0</td>\n",
       "      <td>27.0</td>\n",
       "      <td>14.0</td>\n",
       "    </tr>\n",
       "    <tr>\n",
       "      <th>1997-01-04</th>\n",
       "      <td>KSM00047108</td>\n",
       "      <td>SEOUL CITY, KS</td>\n",
       "      <td>27.0</td>\n",
       "      <td>34.0</td>\n",
       "      <td>14.0</td>\n",
       "    </tr>\n",
       "    <tr>\n",
       "      <th>1997-01-05</th>\n",
       "      <td>KSM00047108</td>\n",
       "      <td>SEOUL CITY, KS</td>\n",
       "      <td>26.0</td>\n",
       "      <td>35.0</td>\n",
       "      <td>NaN</td>\n",
       "    </tr>\n",
       "  </tbody>\n",
       "</table>\n",
       "</div>"
      ],
      "text/plain": [
       "                STATION            NAME  TAVG  TMAX  TMIN\n",
       "DATE                                                     \n",
       "1997-01-01  KSM00047108  SEOUL CITY, KS  23.0  46.0   NaN\n",
       "1997-01-02  KSM00047108  SEOUL CITY, KS  17.0  23.0  12.0\n",
       "1997-01-03  KSM00047108  SEOUL CITY, KS  20.0  27.0  14.0\n",
       "1997-01-04  KSM00047108  SEOUL CITY, KS  27.0  34.0  14.0\n",
       "1997-01-05  KSM00047108  SEOUL CITY, KS  26.0  35.0   NaN"
      ]
     },
     "execution_count": 19,
     "metadata": {},
     "output_type": "execute_result"
    }
   ],
   "source": [
    "asiaweather.head()"
   ]
  },
  {
   "cell_type": "code",
   "execution_count": 20,
   "metadata": {},
   "outputs": [],
   "source": [
    "asiaweather.sort_index(inplace=True)\n",
    "nychouston.sort_index(inplace=True)"
   ]
  },
  {
   "cell_type": "code",
   "execution_count": 21,
   "metadata": {},
   "outputs": [],
   "source": [
    "asiaweather['TAVG'].dropna(inplace= True)"
   ]
  },
  {
   "cell_type": "code",
   "execution_count": 22,
   "metadata": {},
   "outputs": [
    {
     "data": {
      "text/html": [
       "<div>\n",
       "<style scoped>\n",
       "    .dataframe tbody tr th:only-of-type {\n",
       "        vertical-align: middle;\n",
       "    }\n",
       "\n",
       "    .dataframe tbody tr th {\n",
       "        vertical-align: top;\n",
       "    }\n",
       "\n",
       "    .dataframe thead th {\n",
       "        text-align: right;\n",
       "    }\n",
       "</style>\n",
       "<table border=\"1\" class=\"dataframe\">\n",
       "  <thead>\n",
       "    <tr style=\"text-align: right;\">\n",
       "      <th></th>\n",
       "      <th>STATION</th>\n",
       "      <th>NAME</th>\n",
       "      <th>TAVG</th>\n",
       "      <th>TMAX</th>\n",
       "      <th>TMIN</th>\n",
       "    </tr>\n",
       "    <tr>\n",
       "      <th>DATE</th>\n",
       "      <th></th>\n",
       "      <th></th>\n",
       "      <th></th>\n",
       "      <th></th>\n",
       "      <th></th>\n",
       "    </tr>\n",
       "  </thead>\n",
       "  <tbody>\n",
       "    <tr>\n",
       "      <th>1997-01-01</th>\n",
       "      <td>KSM00047108</td>\n",
       "      <td>SEOUL CITY, KS</td>\n",
       "      <td>23.0</td>\n",
       "      <td>46.0</td>\n",
       "      <td>NaN</td>\n",
       "    </tr>\n",
       "    <tr>\n",
       "      <th>1997-01-01</th>\n",
       "      <td>JAW00043323</td>\n",
       "      <td>YOKOSUKA, JA</td>\n",
       "      <td>54.0</td>\n",
       "      <td>65.0</td>\n",
       "      <td>43.0</td>\n",
       "    </tr>\n",
       "    <tr>\n",
       "      <th>1997-01-01</th>\n",
       "      <td>JA000047670</td>\n",
       "      <td>YOKOHAMA, JA</td>\n",
       "      <td>57.0</td>\n",
       "      <td>62.0</td>\n",
       "      <td>43.0</td>\n",
       "    </tr>\n",
       "    <tr>\n",
       "      <th>1997-01-01</th>\n",
       "      <td>JA000047780</td>\n",
       "      <td>NARA, JA</td>\n",
       "      <td>53.0</td>\n",
       "      <td>65.0</td>\n",
       "      <td>37.0</td>\n",
       "    </tr>\n",
       "    <tr>\n",
       "      <th>1997-01-01</th>\n",
       "      <td>JAM00047772</td>\n",
       "      <td>OSAKA, JA</td>\n",
       "      <td>57.0</td>\n",
       "      <td>65.0</td>\n",
       "      <td>43.0</td>\n",
       "    </tr>\n",
       "  </tbody>\n",
       "</table>\n",
       "</div>"
      ],
      "text/plain": [
       "                STATION            NAME  TAVG  TMAX  TMIN\n",
       "DATE                                                     \n",
       "1997-01-01  KSM00047108  SEOUL CITY, KS  23.0  46.0   NaN\n",
       "1997-01-01  JAW00043323    YOKOSUKA, JA  54.0  65.0  43.0\n",
       "1997-01-01  JA000047670    YOKOHAMA, JA  57.0  62.0  43.0\n",
       "1997-01-01  JA000047780        NARA, JA  53.0  65.0  37.0\n",
       "1997-01-01  JAM00047772       OSAKA, JA  57.0  65.0  43.0"
      ]
     },
     "execution_count": 22,
     "metadata": {},
     "output_type": "execute_result"
    }
   ],
   "source": [
    "asiaweather.head()"
   ]
  },
  {
   "cell_type": "code",
   "execution_count": 23,
   "metadata": {},
   "outputs": [],
   "source": [
    "asiaweather= asiaweather[['TAVG', 'STATION', 'NAME']]\n",
    "nychouston= nychouston[['TAVG', 'STATION', 'NAME']]"
   ]
  },
  {
   "cell_type": "code",
   "execution_count": 24,
   "metadata": {},
   "outputs": [
    {
     "data": {
      "text/html": [
       "<div>\n",
       "<style scoped>\n",
       "    .dataframe tbody tr th:only-of-type {\n",
       "        vertical-align: middle;\n",
       "    }\n",
       "\n",
       "    .dataframe tbody tr th {\n",
       "        vertical-align: top;\n",
       "    }\n",
       "\n",
       "    .dataframe thead th {\n",
       "        text-align: right;\n",
       "    }\n",
       "</style>\n",
       "<table border=\"1\" class=\"dataframe\">\n",
       "  <thead>\n",
       "    <tr style=\"text-align: right;\">\n",
       "      <th></th>\n",
       "      <th>TAVG</th>\n",
       "      <th>STATION</th>\n",
       "      <th>NAME</th>\n",
       "    </tr>\n",
       "    <tr>\n",
       "      <th>DATE</th>\n",
       "      <th></th>\n",
       "      <th></th>\n",
       "      <th></th>\n",
       "    </tr>\n",
       "  </thead>\n",
       "  <tbody>\n",
       "    <tr>\n",
       "      <th>1997-01-01</th>\n",
       "      <td>20.0</td>\n",
       "      <td>USW00094789</td>\n",
       "      <td>JFK INTERNATIONAL AIRPORT, NY US</td>\n",
       "    </tr>\n",
       "    <tr>\n",
       "      <th>1997-01-01</th>\n",
       "      <td>61.0</td>\n",
       "      <td>USW00012960</td>\n",
       "      <td>HOUSTON INTERCONTINENTAL AIRPORT, TX US</td>\n",
       "    </tr>\n",
       "    <tr>\n",
       "      <th>1997-01-02</th>\n",
       "      <td>35.0</td>\n",
       "      <td>USW00094789</td>\n",
       "      <td>JFK INTERNATIONAL AIRPORT, NY US</td>\n",
       "    </tr>\n",
       "    <tr>\n",
       "      <th>1997-01-02</th>\n",
       "      <td>70.0</td>\n",
       "      <td>USW00012960</td>\n",
       "      <td>HOUSTON INTERCONTINENTAL AIRPORT, TX US</td>\n",
       "    </tr>\n",
       "    <tr>\n",
       "      <th>1997-01-03</th>\n",
       "      <td>50.5</td>\n",
       "      <td>USW00094789</td>\n",
       "      <td>JFK INTERNATIONAL AIRPORT, NY US</td>\n",
       "    </tr>\n",
       "  </tbody>\n",
       "</table>\n",
       "</div>"
      ],
      "text/plain": [
       "            TAVG      STATION                                     NAME\n",
       "DATE                                                                  \n",
       "1997-01-01  20.0  USW00094789         JFK INTERNATIONAL AIRPORT, NY US\n",
       "1997-01-01  61.0  USW00012960  HOUSTON INTERCONTINENTAL AIRPORT, TX US\n",
       "1997-01-02  35.0  USW00094789         JFK INTERNATIONAL AIRPORT, NY US\n",
       "1997-01-02  70.0  USW00012960  HOUSTON INTERCONTINENTAL AIRPORT, TX US\n",
       "1997-01-03  50.5  USW00094789         JFK INTERNATIONAL AIRPORT, NY US"
      ]
     },
     "execution_count": 24,
     "metadata": {},
     "output_type": "execute_result"
    }
   ],
   "source": [
    "nychouston.head()"
   ]
  },
  {
   "cell_type": "code",
   "execution_count": 25,
   "metadata": {},
   "outputs": [],
   "source": [
    "weatherdata= asiaweather.append(nychouston)"
   ]
  },
  {
   "cell_type": "code",
   "execution_count": 26,
   "metadata": {},
   "outputs": [
    {
     "name": "stdout",
     "output_type": "stream",
     "text": [
      "['SEOUL CITY, KS', 'YOKOSUKA, JA', 'YOKOHAMA, JA', 'NARA, JA', 'OSAKA, JA', 'BEIJING, CH', 'INCHEON, KS', 'SHENYANG, CH', 'SHANGHAI, CH', 'CHIBA, JA', 'KOBE, JA', 'SHANGHAI HONGQIAO, CH', 'TOKYO, JA', 'KANSAI INTERNATIONA, JA', 'KYOTO, JA', 'JFK INTERNATIONAL AIRPORT, NY US', 'HOUSTON INTERCONTINENTAL AIRPORT, TX US']\n"
     ]
    }
   ],
   "source": [
    "citylist = list(weatherdata['NAME'].unique())\n",
    "print(citylist)"
   ]
  },
  {
   "cell_type": "code",
   "execution_count": 27,
   "metadata": {},
   "outputs": [],
   "source": [
    "seouldaily = weatherdata[weatherdata['NAME'] =='SEOUL CITY, KS']\n",
    "houstondaily= weatherdata[weatherdata['NAME']== 'HOUSTON INTERCONTINENTAL AIRPORT, TX US']\n",
    "nycdaily= weatherdata[weatherdata['NAME']== 'JFK INTERNATIONAL AIRPORT, NY US']\n",
    "shanghaidaily= weatherdata[weatherdata['NAME']== 'SHANGHAI, CH']\n",
    "osakadaily= weatherdata[weatherdata['NAME']== 'OSAKA, JA']\n",
    "tokyodaily= weatherdata[weatherdata['NAME']== 'TOKYO, JA']\n",
    "beijingdaily= weatherdata[weatherdata['NAME']== 'BEIJING, CH']"
   ]
  },
  {
   "cell_type": "code",
   "execution_count": 28,
   "metadata": {},
   "outputs": [
    {
     "data": {
      "text/plain": [
       "<matplotlib.axes._subplots.AxesSubplot at 0x1c37877dd8>"
      ]
     },
     "execution_count": 28,
     "metadata": {},
     "output_type": "execute_result"
    },
    {
     "data": {
      "image/png": "[encoded data removed]",
      "text/plain": [
       "<Figure size 432x288 with 1 Axes>"
      ]
     },
     "metadata": {
      "needs_background": "light"
     },
     "output_type": "display_data"
    }
   ],
   "source": [
    "seouldaily.plot()"
   ]
  },
  {
   "cell_type": "code",
   "execution_count": 29,
   "metadata": {},
   "outputs": [],
   "source": [
    "weatherdata.sort_index(inplace= True)"
   ]
  },
  {
   "cell_type": "code",
   "execution_count": 30,
   "metadata": {},
   "outputs": [
    {
     "data": {
      "text/html": [
       "<div>\n",
       "<style scoped>\n",
       "    .dataframe tbody tr th:only-of-type {\n",
       "        vertical-align: middle;\n",
       "    }\n",
       "\n",
       "    .dataframe tbody tr th {\n",
       "        vertical-align: top;\n",
       "    }\n",
       "\n",
       "    .dataframe thead th {\n",
       "        text-align: right;\n",
       "    }\n",
       "</style>\n",
       "<table border=\"1\" class=\"dataframe\">\n",
       "  <thead>\n",
       "    <tr style=\"text-align: right;\">\n",
       "      <th></th>\n",
       "      <th>TAVG</th>\n",
       "      <th>STATION</th>\n",
       "      <th>NAME</th>\n",
       "    </tr>\n",
       "    <tr>\n",
       "      <th>DATE</th>\n",
       "      <th></th>\n",
       "      <th></th>\n",
       "      <th></th>\n",
       "    </tr>\n",
       "  </thead>\n",
       "  <tbody>\n",
       "    <tr>\n",
       "      <th>1997-01-01</th>\n",
       "      <td>23.0</td>\n",
       "      <td>KSM00047108</td>\n",
       "      <td>SEOUL CITY, KS</td>\n",
       "    </tr>\n",
       "    <tr>\n",
       "      <th>1997-01-01</th>\n",
       "      <td>61.0</td>\n",
       "      <td>USW00012960</td>\n",
       "      <td>HOUSTON INTERCONTINENTAL AIRPORT, TX US</td>\n",
       "    </tr>\n",
       "    <tr>\n",
       "      <th>1997-01-01</th>\n",
       "      <td>54.0</td>\n",
       "      <td>JA000047759</td>\n",
       "      <td>KYOTO, JA</td>\n",
       "    </tr>\n",
       "    <tr>\n",
       "      <th>1997-01-01</th>\n",
       "      <td>56.0</td>\n",
       "      <td>JA000047772</td>\n",
       "      <td>KANSAI INTERNATIONA, JA</td>\n",
       "    </tr>\n",
       "    <tr>\n",
       "      <th>1997-01-01</th>\n",
       "      <td>56.0</td>\n",
       "      <td>JA000047662</td>\n",
       "      <td>TOKYO, JA</td>\n",
       "    </tr>\n",
       "  </tbody>\n",
       "</table>\n",
       "</div>"
      ],
      "text/plain": [
       "            TAVG      STATION                                     NAME\n",
       "DATE                                                                  \n",
       "1997-01-01  23.0  KSM00047108                           SEOUL CITY, KS\n",
       "1997-01-01  61.0  USW00012960  HOUSTON INTERCONTINENTAL AIRPORT, TX US\n",
       "1997-01-01  54.0  JA000047759                                KYOTO, JA\n",
       "1997-01-01  56.0  JA000047772                  KANSAI INTERNATIONA, JA\n",
       "1997-01-01  56.0  JA000047662                                TOKYO, JA"
      ]
     },
     "execution_count": 30,
     "metadata": {},
     "output_type": "execute_result"
    }
   ],
   "source": [
    "weatherdata.head()"
   ]
  },
  {
   "cell_type": "code",
   "execution_count": 31,
   "metadata": {},
   "outputs": [
    {
     "data": {
      "text/plain": [
       "17"
      ]
     },
     "execution_count": 31,
     "metadata": {},
     "output_type": "execute_result"
    }
   ],
   "source": [
    "len(citylist)"
   ]
  },
  {
   "cell_type": "code",
   "execution_count": 32,
   "metadata": {},
   "outputs": [],
   "source": [
    "seoul = weatherdata.loc[weatherdata['NAME'] == 'SEOUL CITY, KS'].resample('QS-Oct').mean()\n",
    "nyc = weatherdata.loc[weatherdata['NAME'] == 'JFK INTERNATIONAL AIRPORT, NY US'].resample('QS-Oct').mean()\n",
    "houston = weatherdata.loc[weatherdata['NAME'] == 'HOUSTON INTERCONTINENTAL AIRPORT, TX US'].resample('QS-Oct').mean()\n",
    "kyoto= weatherdata.loc[weatherdata['NAME'] == 'KYOTO, JA'].resample('QS-Oct').mean()\n",
    "tokyo= weatherdata.loc[weatherdata['NAME'] == 'TOKYO, JA'].resample('QS-Oct').mean()\n",
    "kansai = weatherdata.loc[weatherdata['NAME'] == 'KANSAI INTERNATIONA, JA'].resample('QS-Oct').mean()\n",
    "osaka = weatherdata.loc[weatherdata['NAME'] == 'OSAKA, JA'].resample('QS-Oct').mean()\n",
    "yokohama = weatherdata.loc[weatherdata['NAME'] == 'YOKOHAMA, JA'].resample('QS-Oct').mean()\n",
    "yokosuka = weatherdata.loc[weatherdata['NAME'] == 'YOKOSUKA, JA'].resample('QS-Oct').mean()\n",
    "nara = weatherdata.loc[weatherdata['NAME'] == 'NARA, JA'].resample('QS-Oct').mean()\n",
    "hongqiao = weatherdata.loc[weatherdata['NAME'] =='SHANGHAI HONGQIAO, CH'].resample('QS-Oct').mean()\n",
    "kobe = weatherdata.loc[weatherdata['NAME'] =='KOBE, JA'].resample('QS-Oct').mean()\n",
    "incheon= weatherdata.loc[weatherdata['NAME']=='INCHEON, KS'].resample('QS-Oct').mean()\n",
    "beijing = weatherdata.loc[weatherdata['NAME']=='BEIJING, CH'].resample('QS-Oct').mean()\n",
    "chiba= weatherdata.loc[weatherdata['NAME']=='CHIBA, JA'].resample('QS-Oct').mean()\n",
    "shenyang= weatherdata.loc[weatherdata['NAME']=='SHENYANG, CH'].resample('QS-Oct').mean()\n",
    "shanghai = weatherdata.loc[weatherdata['NAME']=='SHANGHAI, CH'].resample('QS-Oct').mean()"
   ]
  },
  {
   "cell_type": "code",
   "execution_count": 33,
   "metadata": {
    "scrolled": false
   },
   "outputs": [],
   "source": [
    "citylist = list(weatherdata['NAME'].unique())"
   ]
  },
  {
   "cell_type": "code",
   "execution_count": 34,
   "metadata": {},
   "outputs": [],
   "source": [
    "globalweatherseasons= pd.concat([seoul,nyc,houston, kyoto, tokyo, kansai, osaka, yokohama, yokosuka, nara, hongqiao,kobe, incheon, beijing,chiba,shenyang, shanghai] ,sort= True , axis= 1)\n"
   ]
  },
  {
   "cell_type": "code",
   "execution_count": 35,
   "metadata": {},
   "outputs": [
    {
     "data": {
      "text/plain": [
       "(90, 17)"
      ]
     },
     "execution_count": 35,
     "metadata": {},
     "output_type": "execute_result"
    }
   ],
   "source": [
    "globalweatherseasons.shape"
   ]
  },
  {
   "cell_type": "code",
   "execution_count": 36,
   "metadata": {
    "scrolled": true
   },
   "outputs": [],
   "source": [
    "globalweatherseasons.columns = ['seoul','nyc','houston', 'kyoto', 'tokyo', 'kansai', 'osaka', 'yokohama', 'yokosuka', 'nara', 'hongqiao','kobe', 'incheon', 'beijing','chiba','shenyang', 'shanghai']\n",
    "\n",
    "\n"
   ]
  },
  {
   "cell_type": "code",
   "execution_count": 37,
   "metadata": {},
   "outputs": [],
   "source": [
    "globalweatherseasons['globalavg']= globalweatherseasons.mean(axis=1)"
   ]
  },
  {
   "cell_type": "code",
   "execution_count": 38,
   "metadata": {},
   "outputs": [
    {
     "data": {
      "text/html": [
       "<div>\n",
       "<style scoped>\n",
       "    .dataframe tbody tr th:only-of-type {\n",
       "        vertical-align: middle;\n",
       "    }\n",
       "\n",
       "    .dataframe tbody tr th {\n",
       "        vertical-align: top;\n",
       "    }\n",
       "\n",
       "    .dataframe thead th {\n",
       "        text-align: right;\n",
       "    }\n",
       "</style>\n",
       "<table border=\"1\" class=\"dataframe\">\n",
       "  <thead>\n",
       "    <tr style=\"text-align: right;\">\n",
       "      <th></th>\n",
       "      <th>seoul</th>\n",
       "      <th>nyc</th>\n",
       "      <th>houston</th>\n",
       "      <th>kyoto</th>\n",
       "      <th>tokyo</th>\n",
       "      <th>kansai</th>\n",
       "      <th>osaka</th>\n",
       "      <th>yokohama</th>\n",
       "      <th>yokosuka</th>\n",
       "      <th>nara</th>\n",
       "      <th>hongqiao</th>\n",
       "      <th>kobe</th>\n",
       "      <th>incheon</th>\n",
       "      <th>beijing</th>\n",
       "      <th>chiba</th>\n",
       "      <th>shenyang</th>\n",
       "      <th>shanghai</th>\n",
       "      <th>globalavg</th>\n",
       "    </tr>\n",
       "    <tr>\n",
       "      <th>DATE</th>\n",
       "      <th></th>\n",
       "      <th></th>\n",
       "      <th></th>\n",
       "      <th></th>\n",
       "      <th></th>\n",
       "      <th></th>\n",
       "      <th></th>\n",
       "      <th></th>\n",
       "      <th></th>\n",
       "      <th></th>\n",
       "      <th></th>\n",
       "      <th></th>\n",
       "      <th></th>\n",
       "      <th></th>\n",
       "      <th></th>\n",
       "      <th></th>\n",
       "      <th></th>\n",
       "      <th></th>\n",
       "    </tr>\n",
       "  </thead>\n",
       "  <tbody>\n",
       "    <tr>\n",
       "      <th>1997-01-01</th>\n",
       "      <td>34.555556</td>\n",
       "      <td>37.872222</td>\n",
       "      <td>57.172222</td>\n",
       "      <td>43.255556</td>\n",
       "      <td>46.677778</td>\n",
       "      <td>45.533333</td>\n",
       "      <td>45.244444</td>\n",
       "      <td>46.133333</td>\n",
       "      <td>48.450000</td>\n",
       "      <td>41.788889</td>\n",
       "      <td>45.222222</td>\n",
       "      <td>44.255556</td>\n",
       "      <td>33.222222</td>\n",
       "      <td>35.777778</td>\n",
       "      <td>46.333333</td>\n",
       "      <td>21.833333</td>\n",
       "      <td>44.477778</td>\n",
       "      <td>42.223856</td>\n",
       "    </tr>\n",
       "    <tr>\n",
       "      <th>1997-04-01</th>\n",
       "      <td>63.934066</td>\n",
       "      <td>58.851648</td>\n",
       "      <td>72.296703</td>\n",
       "      <td>66.296703</td>\n",
       "      <td>66.340659</td>\n",
       "      <td>65.945055</td>\n",
       "      <td>67.340659</td>\n",
       "      <td>65.076923</td>\n",
       "      <td>66.928571</td>\n",
       "      <td>64.494505</td>\n",
       "      <td>70.373626</td>\n",
       "      <td>66.098901</td>\n",
       "      <td>61.219780</td>\n",
       "      <td>67.461538</td>\n",
       "      <td>65.604396</td>\n",
       "      <td>62.461538</td>\n",
       "      <td>69.571429</td>\n",
       "      <td>65.899806</td>\n",
       "    </tr>\n",
       "    <tr>\n",
       "      <th>1997-07-01</th>\n",
       "      <td>75.847826</td>\n",
       "      <td>71.978261</td>\n",
       "      <td>81.771739</td>\n",
       "      <td>78.858696</td>\n",
       "      <td>77.858696</td>\n",
       "      <td>79.032609</td>\n",
       "      <td>79.630435</td>\n",
       "      <td>76.663043</td>\n",
       "      <td>76.663043</td>\n",
       "      <td>76.554348</td>\n",
       "      <td>79.565217</td>\n",
       "      <td>77.902174</td>\n",
       "      <td>74.576087</td>\n",
       "      <td>76.119565</td>\n",
       "      <td>76.902174</td>\n",
       "      <td>73.423913</td>\n",
       "      <td>79.097826</td>\n",
       "      <td>77.202685</td>\n",
       "    </tr>\n",
       "    <tr>\n",
       "      <th>1997-10-01</th>\n",
       "      <td>46.293478</td>\n",
       "      <td>46.793478</td>\n",
       "      <td>58.239130</td>\n",
       "      <td>54.565217</td>\n",
       "      <td>57.195652</td>\n",
       "      <td>57.989130</td>\n",
       "      <td>56.706522</td>\n",
       "      <td>56.489130</td>\n",
       "      <td>58.836957</td>\n",
       "      <td>52.347826</td>\n",
       "      <td>57.032609</td>\n",
       "      <td>56.065217</td>\n",
       "      <td>46.054348</td>\n",
       "      <td>42.793478</td>\n",
       "      <td>56.978261</td>\n",
       "      <td>34.271739</td>\n",
       "      <td>56.815217</td>\n",
       "      <td>52.674552</td>\n",
       "    </tr>\n",
       "    <tr>\n",
       "      <th>1998-01-01</th>\n",
       "      <td>37.666667</td>\n",
       "      <td>40.683333</td>\n",
       "      <td>57.483333</td>\n",
       "      <td>44.944444</td>\n",
       "      <td>45.544444</td>\n",
       "      <td>46.533333</td>\n",
       "      <td>46.600000</td>\n",
       "      <td>45.044444</td>\n",
       "      <td>47.461111</td>\n",
       "      <td>43.233333</td>\n",
       "      <td>45.477778</td>\n",
       "      <td>45.755556</td>\n",
       "      <td>36.655556</td>\n",
       "      <td>35.600000</td>\n",
       "      <td>44.922222</td>\n",
       "      <td>25.533333</td>\n",
       "      <td>45.066667</td>\n",
       "      <td>43.188562</td>\n",
       "    </tr>\n",
       "  </tbody>\n",
       "</table>\n",
       "</div>"
      ],
      "text/plain": [
       "                seoul        nyc    houston      kyoto      tokyo     kansai  \\\n",
       "DATE                                                                           \n",
       "1997-01-01  34.555556  37.872222  57.172222  43.255556  46.677778  45.533333   \n",
       "1997-04-01  63.934066  58.851648  72.296703  66.296703  66.340659  65.945055   \n",
       "1997-07-01  75.847826  71.978261  81.771739  78.858696  77.858696  79.032609   \n",
       "1997-10-01  46.293478  46.793478  58.239130  54.565217  57.195652  57.989130   \n",
       "1998-01-01  37.666667  40.683333  57.483333  44.944444  45.544444  46.533333   \n",
       "\n",
       "                osaka   yokohama   yokosuka       nara   hongqiao       kobe  \\\n",
       "DATE                                                                           \n",
       "1997-01-01  45.244444  46.133333  48.450000  41.788889  45.222222  44.255556   \n",
       "1997-04-01  67.340659  65.076923  66.928571  64.494505  70.373626  66.098901   \n",
       "1997-07-01  79.630435  76.663043  76.663043  76.554348  79.565217  77.902174   \n",
       "1997-10-01  56.706522  56.489130  58.836957  52.347826  57.032609  56.065217   \n",
       "1998-01-01  46.600000  45.044444  47.461111  43.233333  45.477778  45.755556   \n",
       "\n",
       "              incheon    beijing      chiba   shenyang   shanghai  globalavg  \n",
       "DATE                                                                          \n",
       "1997-01-01  33.222222  35.777778  46.333333  21.833333  44.477778  42.223856  \n",
       "1997-04-01  61.219780  67.461538  65.604396  62.461538  69.571429  65.899806  \n",
       "1997-07-01  74.576087  76.119565  76.902174  73.423913  79.097826  77.202685  \n",
       "1997-10-01  46.054348  42.793478  56.978261  34.271739  56.815217  52.674552  \n",
       "1998-01-01  36.655556  35.600000  44.922222  25.533333  45.066667  43.188562  "
      ]
     },
     "execution_count": 38,
     "metadata": {},
     "output_type": "execute_result"
    }
   ],
   "source": [
    "globalweatherseasons.head()"
   ]
  },
  {
   "cell_type": "code",
   "execution_count": 39,
   "metadata": {},
   "outputs": [
    {
     "data": {
      "image/png": "[encoded data removed]",
      "text/plain": [
       "<Figure size 1440x864 with 1 Axes>"
      ]
     },
     "metadata": {
      "needs_background": "light"
     },
     "output_type": "display_data"
    }
   ],
   "source": [
    "globalweatherseasons['globalavg'].plot(figsize=(20,12));"
   ]
  },
  {
   "cell_type": "code",
   "execution_count": 40,
   "metadata": {},
   "outputs": [],
   "source": [
    "globalweatherseasons['globalmeanrolled']= np.zeros(globalweatherseasons['globalavg'].shape)\n",
    "for i in range(len(globalweatherseasons['globalavg'])):\n",
    "        globalweatherseasons['globalmeanrolled'][i] = globalweatherseasons['globalavg'][:i+1].mean()"
   ]
  },
  {
   "cell_type": "code",
   "execution_count": 41,
   "metadata": {},
   "outputs": [],
   "source": [
    "globalavgtemp= globalweatherseasons['globalavg']"
   ]
  },
  {
   "cell_type": "code",
   "execution_count": 42,
   "metadata": {},
   "outputs": [
    {
     "data": {
      "image/png": "[encoded data removed]",
      "text/plain": [
       "<Figure size 864x576 with 4 Axes>"
      ]
     },
     "metadata": {
      "needs_background": "light"
     },
     "output_type": "display_data"
    }
   ],
   "source": [
    "# import seasonal_decompose\n",
    "decomposition = seasonal_decompose(globalavgtemp, model= 'additive')\n",
    "\n",
    "# Gather the trend, seasonality and noise of decomposed object\n",
    "weathertrend = decomposition.trend\n",
    "weatherseasonal = decomposition.seasonal\n",
    "weatherresidual = decomposition.resid\n",
    "\n",
    "# Plot gathered statistics\n",
    "plt.figure(figsize=(12,8))\n",
    "plt.subplot(411)\n",
    "plt.plot(globalavgtemp, label='Weather', color=\"purple\")\n",
    "plt.legend(loc='best')\n",
    "plt.subplot(412)\n",
    "plt.plot(weathertrend, label='Weather Trend', color=\"purple\")\n",
    "plt.legend(loc='best')\n",
    "plt.subplot(413)\n",
    "plt.plot(weatherseasonal,label='Weather Seasonality', color=\"purple\")\n",
    "plt.legend(loc='best')\n",
    "plt.subplot(414)\n",
    "plt.plot(weatherresidual, label='Weather Residuals', color=\"purple\")\n",
    "plt.legend(loc='best')\n",
    "plt.tight_layout()"
   ]
  },
  {
   "cell_type": "code",
   "execution_count": 43,
   "metadata": {},
   "outputs": [],
   "source": [
    "weatherresidual.dropna(inplace= True)"
   ]
  },
  {
   "cell_type": "code",
   "execution_count": 44,
   "metadata": {},
   "outputs": [
    {
     "data": {
      "text/plain": [
       "(-5.9348225601587465,\n",
       " 2.3343455824052357e-07,\n",
       " 12,\n",
       " 73,\n",
       " {'1%': -3.5232835753964475,\n",
       "  '5%': -2.902030597326081,\n",
       "  '10%': -2.5883710883843123},\n",
       " 144.76914011998656)"
      ]
     },
     "execution_count": 44,
     "metadata": {},
     "output_type": "execute_result"
    }
   ],
   "source": [
    "adfuller(weatherresidual)"
   ]
  },
  {
   "cell_type": "markdown",
   "metadata": {},
   "source": [
    "## More Weather "
   ]
  },
  {
   "cell_type": "code",
   "execution_count": 45,
   "metadata": {
    "scrolled": true
   },
   "outputs": [],
   "source": [
    "nycwinters, nycsummers, nycsprings, nycfalls = nyc.loc[nyc.index.month == 1], nyc.loc[nyc.index.month == 7], nyc.loc[nyc.index.month == 4], nyc.loc[nyc.index.month == 4]\n",
    "houstonwinters, houstonsummers, houstonsprings, houstonfalls = houston.loc[houston.index.month == 1], houston.loc[houston.index.month == 7], houston.loc[houston.index.month == 4], houston.loc[houston.index.month == 4]\n",
    "shanghaiwinters, shanghaisummers, shanghaisprings, shanghaifalls = shanghai.loc[houston.index.month == 1], shanghai.loc[houston.index.month == 7], shanghai.loc[houston.index.month == 4], shanghai.loc[houston.index.month == 4]\n"
   ]
  },
  {
   "cell_type": "code",
   "execution_count": 46,
   "metadata": {
    "scrolled": true
   },
   "outputs": [
    {
     "data": {
      "text/html": [
       "<div>\n",
       "<style scoped>\n",
       "    .dataframe tbody tr th:only-of-type {\n",
       "        vertical-align: middle;\n",
       "    }\n",
       "\n",
       "    .dataframe tbody tr th {\n",
       "        vertical-align: top;\n",
       "    }\n",
       "\n",
       "    .dataframe thead th {\n",
       "        text-align: right;\n",
       "    }\n",
       "</style>\n",
       "<table border=\"1\" class=\"dataframe\">\n",
       "  <thead>\n",
       "    <tr style=\"text-align: right;\">\n",
       "      <th></th>\n",
       "      <th>TAVG</th>\n",
       "    </tr>\n",
       "    <tr>\n",
       "      <th>DATE</th>\n",
       "      <th></th>\n",
       "    </tr>\n",
       "  </thead>\n",
       "  <tbody>\n",
       "    <tr>\n",
       "      <th>1997-07-01</th>\n",
       "      <td>81.771739</td>\n",
       "    </tr>\n",
       "    <tr>\n",
       "      <th>1998-07-01</th>\n",
       "      <td>84.760870</td>\n",
       "    </tr>\n",
       "    <tr>\n",
       "      <th>1999-07-01</th>\n",
       "      <td>82.913043</td>\n",
       "    </tr>\n",
       "    <tr>\n",
       "      <th>2000-07-01</th>\n",
       "      <td>83.391304</td>\n",
       "    </tr>\n",
       "    <tr>\n",
       "      <th>2001-07-01</th>\n",
       "      <td>81.695652</td>\n",
       "    </tr>\n",
       "    <tr>\n",
       "      <th>2002-07-01</th>\n",
       "      <td>82.934783</td>\n",
       "    </tr>\n",
       "    <tr>\n",
       "      <th>2003-07-01</th>\n",
       "      <td>82.163043</td>\n",
       "    </tr>\n",
       "    <tr>\n",
       "      <th>2004-07-01</th>\n",
       "      <td>83.070652</td>\n",
       "    </tr>\n",
       "    <tr>\n",
       "      <th>2005-07-01</th>\n",
       "      <td>84.250000</td>\n",
       "    </tr>\n",
       "    <tr>\n",
       "      <th>2006-07-01</th>\n",
       "      <td>82.576087</td>\n",
       "    </tr>\n",
       "    <tr>\n",
       "      <th>2007-07-01</th>\n",
       "      <td>83.157609</td>\n",
       "    </tr>\n",
       "    <tr>\n",
       "      <th>2008-07-01</th>\n",
       "      <td>82.375000</td>\n",
       "    </tr>\n",
       "    <tr>\n",
       "      <th>2009-07-01</th>\n",
       "      <td>84.250000</td>\n",
       "    </tr>\n",
       "    <tr>\n",
       "      <th>2010-07-01</th>\n",
       "      <td>84.418478</td>\n",
       "    </tr>\n",
       "    <tr>\n",
       "      <th>2011-07-01</th>\n",
       "      <td>86.820652</td>\n",
       "    </tr>\n",
       "    <tr>\n",
       "      <th>2012-07-01</th>\n",
       "      <td>82.945652</td>\n",
       "    </tr>\n",
       "    <tr>\n",
       "      <th>2013-07-01</th>\n",
       "      <td>82.760870</td>\n",
       "    </tr>\n",
       "    <tr>\n",
       "      <th>2014-07-01</th>\n",
       "      <td>81.673913</td>\n",
       "    </tr>\n",
       "    <tr>\n",
       "      <th>2015-07-01</th>\n",
       "      <td>82.641304</td>\n",
       "    </tr>\n",
       "    <tr>\n",
       "      <th>2016-07-01</th>\n",
       "      <td>83.358696</td>\n",
       "    </tr>\n",
       "    <tr>\n",
       "      <th>2017-07-01</th>\n",
       "      <td>81.956522</td>\n",
       "    </tr>\n",
       "    <tr>\n",
       "      <th>2018-07-01</th>\n",
       "      <td>82.826087</td>\n",
       "    </tr>\n",
       "  </tbody>\n",
       "</table>\n",
       "</div>"
      ],
      "text/plain": [
       "                 TAVG\n",
       "DATE                 \n",
       "1997-07-01  81.771739\n",
       "1998-07-01  84.760870\n",
       "1999-07-01  82.913043\n",
       "2000-07-01  83.391304\n",
       "2001-07-01  81.695652\n",
       "2002-07-01  82.934783\n",
       "2003-07-01  82.163043\n",
       "2004-07-01  83.070652\n",
       "2005-07-01  84.250000\n",
       "2006-07-01  82.576087\n",
       "2007-07-01  83.157609\n",
       "2008-07-01  82.375000\n",
       "2009-07-01  84.250000\n",
       "2010-07-01  84.418478\n",
       "2011-07-01  86.820652\n",
       "2012-07-01  82.945652\n",
       "2013-07-01  82.760870\n",
       "2014-07-01  81.673913\n",
       "2015-07-01  82.641304\n",
       "2016-07-01  83.358696\n",
       "2017-07-01  81.956522\n",
       "2018-07-01  82.826087"
      ]
     },
     "execution_count": 46,
     "metadata": {},
     "output_type": "execute_result"
    }
   ],
   "source": [
    "houstonsummers"
   ]
  },
  {
   "cell_type": "code",
   "execution_count": 47,
   "metadata": {},
   "outputs": [
    {
     "data": {
      "text/plain": [
       "38.66296296296296"
      ]
     },
     "execution_count": 47,
     "metadata": {},
     "output_type": "execute_result"
    }
   ],
   "source": [
    "nycwinters['TAVG'][:3].mean()"
   ]
  },
  {
   "cell_type": "code",
   "execution_count": 48,
   "metadata": {},
   "outputs": [],
   "source": [
    "houstonlist = [houstonwinters, houstonsummers, houstonsprings, houstonfalls]\n",
    "\n",
    "for h in houstonlist:\n",
    "    h['meanrolled']= np.zeros(h['TAVG'].shape)\n",
    "    for i in range(len(h['TAVG'])):\n",
    "        h['meanrolled'][i]= h['TAVG'][:i+1].mean()"
   ]
  },
  {
   "cell_type": "code",
   "execution_count": 49,
   "metadata": {},
   "outputs": [],
   "source": [
    "nyclist = [nycwinters, nycsummers, nycsprings, nycfalls]\n",
    "shanghai = [shanghaiwinters, shanghaisummers, shanghaisprings, shanghaifalls]\n",
    "\n",
    "\n",
    "#function to create a dynamic mean in dataframe\n",
    "\n",
    "def dynamicmean(thelist):\n",
    "    for h in thelist:\n",
    "        h['meanrolled']= np.zeros(h['TAVG'].shape)\n",
    "        for i in range(len(h['TAVG'])):\n",
    "            h['meanrolled'][i]= h['TAVG'][:i+1].mean()\n",
    "\n",
    "dynamicmean(shanghai)"
   ]
  },
  {
   "cell_type": "code",
   "execution_count": 50,
   "metadata": {},
   "outputs": [],
   "source": [
    "nycwinters['meanrolled']= np.zeros(nycwinters['TAVG'].shape)"
   ]
  },
  {
   "cell_type": "code",
   "execution_count": 51,
   "metadata": {},
   "outputs": [],
   "source": [
    "nycsummers['meanrolled']= np.zeros(nycsummers['TAVG'].shape)"
   ]
  },
  {
   "cell_type": "code",
   "execution_count": 52,
   "metadata": {},
   "outputs": [],
   "source": [
    "for i in range(len(nycsummers['TAVG'])):\n",
    "    nycsummers['meanrolled'][i]= nycsummers['TAVG'][:i+1].mean()"
   ]
  },
  {
   "cell_type": "code",
   "execution_count": 53,
   "metadata": {
    "scrolled": true
   },
   "outputs": [],
   "source": [
    "for i in range(len(nycwinters['TAVG'])):\n",
    "    nycwinters['meanrolled'][i]= nycwinters['TAVG'][:i+1].mean()"
   ]
  },
  {
   "cell_type": "code",
   "execution_count": 54,
   "metadata": {},
   "outputs": [],
   "source": [
    "houstonsummers['hotterthanaveragesummer']=  houstonsummers['TAVG']> houstonsummers['meanrolled']"
   ]
  },
  {
   "cell_type": "code",
   "execution_count": 55,
   "metadata": {},
   "outputs": [
    {
     "data": {
      "text/html": [
       "<div>\n",
       "<style scoped>\n",
       "    .dataframe tbody tr th:only-of-type {\n",
       "        vertical-align: middle;\n",
       "    }\n",
       "\n",
       "    .dataframe tbody tr th {\n",
       "        vertical-align: top;\n",
       "    }\n",
       "\n",
       "    .dataframe thead th {\n",
       "        text-align: right;\n",
       "    }\n",
       "</style>\n",
       "<table border=\"1\" class=\"dataframe\">\n",
       "  <thead>\n",
       "    <tr style=\"text-align: right;\">\n",
       "      <th></th>\n",
       "      <th>TAVG</th>\n",
       "      <th>meanrolled</th>\n",
       "      <th>hotterthanaveragesummer</th>\n",
       "    </tr>\n",
       "    <tr>\n",
       "      <th>DATE</th>\n",
       "      <th></th>\n",
       "      <th></th>\n",
       "      <th></th>\n",
       "    </tr>\n",
       "  </thead>\n",
       "  <tbody>\n",
       "    <tr>\n",
       "      <th>1997-07-01</th>\n",
       "      <td>81.771739</td>\n",
       "      <td>81.771739</td>\n",
       "      <td>False</td>\n",
       "    </tr>\n",
       "    <tr>\n",
       "      <th>1998-07-01</th>\n",
       "      <td>84.760870</td>\n",
       "      <td>83.266304</td>\n",
       "      <td>True</td>\n",
       "    </tr>\n",
       "    <tr>\n",
       "      <th>1999-07-01</th>\n",
       "      <td>82.913043</td>\n",
       "      <td>83.148551</td>\n",
       "      <td>False</td>\n",
       "    </tr>\n",
       "    <tr>\n",
       "      <th>2000-07-01</th>\n",
       "      <td>83.391304</td>\n",
       "      <td>83.209239</td>\n",
       "      <td>True</td>\n",
       "    </tr>\n",
       "    <tr>\n",
       "      <th>2001-07-01</th>\n",
       "      <td>81.695652</td>\n",
       "      <td>82.906522</td>\n",
       "      <td>False</td>\n",
       "    </tr>\n",
       "    <tr>\n",
       "      <th>2002-07-01</th>\n",
       "      <td>82.934783</td>\n",
       "      <td>82.911232</td>\n",
       "      <td>True</td>\n",
       "    </tr>\n",
       "    <tr>\n",
       "      <th>2003-07-01</th>\n",
       "      <td>82.163043</td>\n",
       "      <td>82.804348</td>\n",
       "      <td>False</td>\n",
       "    </tr>\n",
       "    <tr>\n",
       "      <th>2004-07-01</th>\n",
       "      <td>83.070652</td>\n",
       "      <td>82.837636</td>\n",
       "      <td>True</td>\n",
       "    </tr>\n",
       "    <tr>\n",
       "      <th>2005-07-01</th>\n",
       "      <td>84.250000</td>\n",
       "      <td>82.994565</td>\n",
       "      <td>True</td>\n",
       "    </tr>\n",
       "    <tr>\n",
       "      <th>2006-07-01</th>\n",
       "      <td>82.576087</td>\n",
       "      <td>82.952717</td>\n",
       "      <td>False</td>\n",
       "    </tr>\n",
       "    <tr>\n",
       "      <th>2007-07-01</th>\n",
       "      <td>83.157609</td>\n",
       "      <td>82.971344</td>\n",
       "      <td>True</td>\n",
       "    </tr>\n",
       "    <tr>\n",
       "      <th>2008-07-01</th>\n",
       "      <td>82.375000</td>\n",
       "      <td>82.921649</td>\n",
       "      <td>False</td>\n",
       "    </tr>\n",
       "    <tr>\n",
       "      <th>2009-07-01</th>\n",
       "      <td>84.250000</td>\n",
       "      <td>83.023829</td>\n",
       "      <td>True</td>\n",
       "    </tr>\n",
       "    <tr>\n",
       "      <th>2010-07-01</th>\n",
       "      <td>84.418478</td>\n",
       "      <td>83.123447</td>\n",
       "      <td>True</td>\n",
       "    </tr>\n",
       "    <tr>\n",
       "      <th>2011-07-01</th>\n",
       "      <td>86.820652</td>\n",
       "      <td>83.369928</td>\n",
       "      <td>True</td>\n",
       "    </tr>\n",
       "    <tr>\n",
       "      <th>2012-07-01</th>\n",
       "      <td>82.945652</td>\n",
       "      <td>83.343410</td>\n",
       "      <td>False</td>\n",
       "    </tr>\n",
       "    <tr>\n",
       "      <th>2013-07-01</th>\n",
       "      <td>82.760870</td>\n",
       "      <td>83.309143</td>\n",
       "      <td>False</td>\n",
       "    </tr>\n",
       "    <tr>\n",
       "      <th>2014-07-01</th>\n",
       "      <td>81.673913</td>\n",
       "      <td>83.218297</td>\n",
       "      <td>False</td>\n",
       "    </tr>\n",
       "    <tr>\n",
       "      <th>2015-07-01</th>\n",
       "      <td>82.641304</td>\n",
       "      <td>83.187929</td>\n",
       "      <td>False</td>\n",
       "    </tr>\n",
       "    <tr>\n",
       "      <th>2016-07-01</th>\n",
       "      <td>83.358696</td>\n",
       "      <td>83.196467</td>\n",
       "      <td>True</td>\n",
       "    </tr>\n",
       "    <tr>\n",
       "      <th>2017-07-01</th>\n",
       "      <td>81.956522</td>\n",
       "      <td>83.137422</td>\n",
       "      <td>False</td>\n",
       "    </tr>\n",
       "    <tr>\n",
       "      <th>2018-07-01</th>\n",
       "      <td>82.826087</td>\n",
       "      <td>83.123271</td>\n",
       "      <td>False</td>\n",
       "    </tr>\n",
       "  </tbody>\n",
       "</table>\n",
       "</div>"
      ],
      "text/plain": [
       "                 TAVG  meanrolled  hotterthanaveragesummer\n",
       "DATE                                                      \n",
       "1997-07-01  81.771739   81.771739                    False\n",
       "1998-07-01  84.760870   83.266304                     True\n",
       "1999-07-01  82.913043   83.148551                    False\n",
       "2000-07-01  83.391304   83.209239                     True\n",
       "2001-07-01  81.695652   82.906522                    False\n",
       "2002-07-01  82.934783   82.911232                     True\n",
       "2003-07-01  82.163043   82.804348                    False\n",
       "2004-07-01  83.070652   82.837636                     True\n",
       "2005-07-01  84.250000   82.994565                     True\n",
       "2006-07-01  82.576087   82.952717                    False\n",
       "2007-07-01  83.157609   82.971344                     True\n",
       "2008-07-01  82.375000   82.921649                    False\n",
       "2009-07-01  84.250000   83.023829                     True\n",
       "2010-07-01  84.418478   83.123447                     True\n",
       "2011-07-01  86.820652   83.369928                     True\n",
       "2012-07-01  82.945652   83.343410                    False\n",
       "2013-07-01  82.760870   83.309143                    False\n",
       "2014-07-01  81.673913   83.218297                    False\n",
       "2015-07-01  82.641304   83.187929                    False\n",
       "2016-07-01  83.358696   83.196467                     True\n",
       "2017-07-01  81.956522   83.137422                    False\n",
       "2018-07-01  82.826087   83.123271                    False"
      ]
     },
     "execution_count": 55,
     "metadata": {},
     "output_type": "execute_result"
    }
   ],
   "source": [
    "houstonsummers"
   ]
  },
  {
   "cell_type": "code",
   "execution_count": 56,
   "metadata": {
    "scrolled": true
   },
   "outputs": [
    {
     "data": {
      "text/html": [
       "<div>\n",
       "<style scoped>\n",
       "    .dataframe tbody tr th:only-of-type {\n",
       "        vertical-align: middle;\n",
       "    }\n",
       "\n",
       "    .dataframe tbody tr th {\n",
       "        vertical-align: top;\n",
       "    }\n",
       "\n",
       "    .dataframe thead th {\n",
       "        text-align: right;\n",
       "    }\n",
       "</style>\n",
       "<table border=\"1\" class=\"dataframe\">\n",
       "  <thead>\n",
       "    <tr style=\"text-align: right;\">\n",
       "      <th></th>\n",
       "      <th>TAVG</th>\n",
       "      <th>meanrolled</th>\n",
       "    </tr>\n",
       "    <tr>\n",
       "      <th>DATE</th>\n",
       "      <th></th>\n",
       "      <th></th>\n",
       "    </tr>\n",
       "  </thead>\n",
       "  <tbody>\n",
       "    <tr>\n",
       "      <th>1997-07-01</th>\n",
       "      <td>71.978261</td>\n",
       "      <td>71.978261</td>\n",
       "    </tr>\n",
       "    <tr>\n",
       "      <th>1998-07-01</th>\n",
       "      <td>74.152174</td>\n",
       "      <td>73.065217</td>\n",
       "    </tr>\n",
       "    <tr>\n",
       "      <th>1999-07-01</th>\n",
       "      <td>74.380435</td>\n",
       "      <td>73.503623</td>\n",
       "    </tr>\n",
       "    <tr>\n",
       "      <th>2000-07-01</th>\n",
       "      <td>70.869565</td>\n",
       "      <td>72.845109</td>\n",
       "    </tr>\n",
       "    <tr>\n",
       "      <th>2001-07-01</th>\n",
       "      <td>72.554348</td>\n",
       "      <td>72.786957</td>\n",
       "    </tr>\n",
       "    <tr>\n",
       "      <th>2002-07-01</th>\n",
       "      <td>74.760870</td>\n",
       "      <td>73.115942</td>\n",
       "    </tr>\n",
       "    <tr>\n",
       "      <th>2003-07-01</th>\n",
       "      <td>73.961957</td>\n",
       "      <td>73.236801</td>\n",
       "    </tr>\n",
       "    <tr>\n",
       "      <th>2004-07-01</th>\n",
       "      <td>72.706522</td>\n",
       "      <td>73.170516</td>\n",
       "    </tr>\n",
       "    <tr>\n",
       "      <th>2005-07-01</th>\n",
       "      <td>75.565217</td>\n",
       "      <td>73.436594</td>\n",
       "    </tr>\n",
       "    <tr>\n",
       "      <th>2006-07-01</th>\n",
       "      <td>73.375000</td>\n",
       "      <td>73.430435</td>\n",
       "    </tr>\n",
       "    <tr>\n",
       "      <th>2007-07-01</th>\n",
       "      <td>72.538043</td>\n",
       "      <td>73.349308</td>\n",
       "    </tr>\n",
       "    <tr>\n",
       "      <th>2008-07-01</th>\n",
       "      <td>73.456522</td>\n",
       "      <td>73.358243</td>\n",
       "    </tr>\n",
       "    <tr>\n",
       "      <th>2009-07-01</th>\n",
       "      <td>72.402174</td>\n",
       "      <td>73.284699</td>\n",
       "    </tr>\n",
       "    <tr>\n",
       "      <th>2010-07-01</th>\n",
       "      <td>75.858696</td>\n",
       "      <td>73.468556</td>\n",
       "    </tr>\n",
       "    <tr>\n",
       "      <th>2011-07-01</th>\n",
       "      <td>75.070652</td>\n",
       "      <td>73.575362</td>\n",
       "    </tr>\n",
       "    <tr>\n",
       "      <th>2012-07-01</th>\n",
       "      <td>74.826087</td>\n",
       "      <td>73.653533</td>\n",
       "    </tr>\n",
       "    <tr>\n",
       "      <th>2013-07-01</th>\n",
       "      <td>73.228261</td>\n",
       "      <td>73.628517</td>\n",
       "    </tr>\n",
       "    <tr>\n",
       "      <th>2014-07-01</th>\n",
       "      <td>72.815217</td>\n",
       "      <td>73.583333</td>\n",
       "    </tr>\n",
       "    <tr>\n",
       "      <th>2015-07-01</th>\n",
       "      <td>76.228261</td>\n",
       "      <td>73.722540</td>\n",
       "    </tr>\n",
       "    <tr>\n",
       "      <th>2016-07-01</th>\n",
       "      <td>75.989130</td>\n",
       "      <td>73.835870</td>\n",
       "    </tr>\n",
       "    <tr>\n",
       "      <th>2017-07-01</th>\n",
       "      <td>73.456522</td>\n",
       "      <td>73.817805</td>\n",
       "    </tr>\n",
       "    <tr>\n",
       "      <th>2018-07-01</th>\n",
       "      <td>74.597826</td>\n",
       "      <td>73.853261</td>\n",
       "    </tr>\n",
       "  </tbody>\n",
       "</table>\n",
       "</div>"
      ],
      "text/plain": [
       "                 TAVG  meanrolled\n",
       "DATE                             \n",
       "1997-07-01  71.978261   71.978261\n",
       "1998-07-01  74.152174   73.065217\n",
       "1999-07-01  74.380435   73.503623\n",
       "2000-07-01  70.869565   72.845109\n",
       "2001-07-01  72.554348   72.786957\n",
       "2002-07-01  74.760870   73.115942\n",
       "2003-07-01  73.961957   73.236801\n",
       "2004-07-01  72.706522   73.170516\n",
       "2005-07-01  75.565217   73.436594\n",
       "2006-07-01  73.375000   73.430435\n",
       "2007-07-01  72.538043   73.349308\n",
       "2008-07-01  73.456522   73.358243\n",
       "2009-07-01  72.402174   73.284699\n",
       "2010-07-01  75.858696   73.468556\n",
       "2011-07-01  75.070652   73.575362\n",
       "2012-07-01  74.826087   73.653533\n",
       "2013-07-01  73.228261   73.628517\n",
       "2014-07-01  72.815217   73.583333\n",
       "2015-07-01  76.228261   73.722540\n",
       "2016-07-01  75.989130   73.835870\n",
       "2017-07-01  73.456522   73.817805\n",
       "2018-07-01  74.597826   73.853261"
      ]
     },
     "execution_count": 56,
     "metadata": {},
     "output_type": "execute_result"
    }
   ],
   "source": [
    "nycsummers"
   ]
  },
  {
   "cell_type": "code",
   "execution_count": null,
   "metadata": {},
   "outputs": [],
   "source": []
  },
  {
   "cell_type": "code",
   "execution_count": 403,
   "metadata": {},
   "outputs": [],
   "source": [
    "import quandl"
   ]
  },
  {
   "cell_type": "code",
   "execution_count": 404,
   "metadata": {},
   "outputs": [],
   "source": [
    "quandl.ApiConfig.api_key= 'ztt5_Rp3hVKpUnN5sEG1'"
   ]
  },
  {
   "cell_type": "code",
   "execution_count": 484,
   "metadata": {},
   "outputs": [],
   "source": [
    "data = quandl.get(\"ODA/PCOALAU_USD\")"
   ]
  },
  {
   "cell_type": "code",
   "execution_count": 419,
   "metadata": {},
   "outputs": [
    {
     "data": {
      "text/html": [
       "<div>\n",
       "<style scoped>\n",
       "    .dataframe tbody tr th:only-of-type {\n",
       "        vertical-align: middle;\n",
       "    }\n",
       "\n",
       "    .dataframe tbody tr th {\n",
       "        vertical-align: top;\n",
       "    }\n",
       "\n",
       "    .dataframe thead th {\n",
       "        text-align: right;\n",
       "    }\n",
       "</style>\n",
       "<table border=\"1\" class=\"dataframe\">\n",
       "  <thead>\n",
       "    <tr style=\"text-align: right;\">\n",
       "      <th></th>\n",
       "      <th>Value</th>\n",
       "    </tr>\n",
       "    <tr>\n",
       "      <th>Date</th>\n",
       "      <th></th>\n",
       "    </tr>\n",
       "  </thead>\n",
       "  <tbody>\n",
       "    <tr>\n",
       "      <th>2017-02-28</th>\n",
       "      <td>85.97</td>\n",
       "    </tr>\n",
       "    <tr>\n",
       "      <th>2017-03-31</th>\n",
       "      <td>86.33</td>\n",
       "    </tr>\n",
       "    <tr>\n",
       "      <th>2017-04-30</th>\n",
       "      <td>90.11</td>\n",
       "    </tr>\n",
       "    <tr>\n",
       "      <th>2017-05-31</th>\n",
       "      <td>80.12</td>\n",
       "    </tr>\n",
       "    <tr>\n",
       "      <th>2017-06-30</th>\n",
       "      <td>85.67</td>\n",
       "    </tr>\n",
       "  </tbody>\n",
       "</table>\n",
       "</div>"
      ],
      "text/plain": [
       "            Value\n",
       "Date             \n",
       "2017-02-28  85.97\n",
       "2017-03-31  86.33\n",
       "2017-04-30  90.11\n",
       "2017-05-31  80.12\n",
       "2017-06-30  85.67"
      ]
     },
     "execution_count": 419,
     "metadata": {},
     "output_type": "execute_result"
    }
   ],
   "source": [
    "data.tail()"
   ]
  },
  {
   "cell_type": "code",
   "execution_count": null,
   "metadata": {},
   "outputs": [],
   "source": []
  },
  {
   "cell_type": "code",
   "execution_count": null,
   "metadata": {},
   "outputs": [],
   "source": []
  },
  {
   "cell_type": "markdown",
   "metadata": {},
   "source": [
    "# ARIMA"
   ]
  },
  {
   "cell_type": "code",
   "execution_count": 58,
   "metadata": {},
   "outputs": [
    {
     "ename": "NameError",
     "evalue": "name 'energyPrices' is not defined",
     "output_type": "error",
     "traceback": [
      "\u001b[0;31m---------------------------------------------------------------------------\u001b[0m",
      "\u001b[0;31mNameError\u001b[0m                                 Traceback (most recent call last)",
      "\u001b[0;32m<ipython-input-58-6c3f2108963f>\u001b[0m in \u001b[0;36m<module>\u001b[0;34m()\u001b[0m\n\u001b[0;32m----> 1\u001b[0;31m \u001b[0mseries\u001b[0m\u001b[0;34m=\u001b[0m \u001b[0menergyPrices\u001b[0m\u001b[0;34m[\u001b[0m\u001b[0;34m'LNG'\u001b[0m\u001b[0;34m]\u001b[0m\u001b[0;34m.\u001b[0m\u001b[0mastype\u001b[0m\u001b[0;34m(\u001b[0m\u001b[0;34m'float64'\u001b[0m\u001b[0;34m)\u001b[0m\u001b[0;34m\u001b[0m\u001b[0;34m\u001b[0m\u001b[0m\n\u001b[0m\u001b[1;32m      2\u001b[0m \u001b[0mexog\u001b[0m\u001b[0;34m=\u001b[0m \u001b[0menergyPrices\u001b[0m\u001b[0;34m[\u001b[0m\u001b[0;34m'WTI'\u001b[0m\u001b[0;34m]\u001b[0m\u001b[0;34m.\u001b[0m\u001b[0mastype\u001b[0m\u001b[0;34m(\u001b[0m\u001b[0;34m'float64'\u001b[0m\u001b[0;34m)\u001b[0m\u001b[0;34m\u001b[0m\u001b[0;34m\u001b[0m\u001b[0m\n\u001b[1;32m      3\u001b[0m \u001b[0mmodel\u001b[0m \u001b[0;34m=\u001b[0m \u001b[0mARIMA\u001b[0m\u001b[0;34m(\u001b[0m\u001b[0mendog\u001b[0m\u001b[0;34m=\u001b[0m\u001b[0mseries\u001b[0m\u001b[0;34m,\u001b[0m \u001b[0mexog\u001b[0m\u001b[0;34m=\u001b[0m\u001b[0mexog\u001b[0m\u001b[0;34m,\u001b[0m \u001b[0morder\u001b[0m\u001b[0;34m=\u001b[0m\u001b[0;34m(\u001b[0m\u001b[0;36m1\u001b[0m\u001b[0;34m,\u001b[0m\u001b[0;36m1\u001b[0m\u001b[0;34m,\u001b[0m\u001b[0;36m0\u001b[0m\u001b[0;34m)\u001b[0m\u001b[0;34m)\u001b[0m\u001b[0;34m\u001b[0m\u001b[0;34m\u001b[0m\u001b[0m\n\u001b[1;32m      4\u001b[0m \u001b[0mmodel_fit\u001b[0m \u001b[0;34m=\u001b[0m \u001b[0mmodel\u001b[0m\u001b[0;34m.\u001b[0m\u001b[0mfit\u001b[0m\u001b[0;34m(\u001b[0m\u001b[0mdisp\u001b[0m\u001b[0;34m=\u001b[0m\u001b[0;36m0\u001b[0m\u001b[0;34m)\u001b[0m\u001b[0;34m\u001b[0m\u001b[0;34m\u001b[0m\u001b[0m\n\u001b[1;32m      5\u001b[0m \u001b[0;31m# print(model_fit.summary())\u001b[0m\u001b[0;34m\u001b[0m\u001b[0;34m\u001b[0m\u001b[0;34m\u001b[0m\u001b[0m\n",
      "\u001b[0;31mNameError\u001b[0m: name 'energyPrices' is not defined"
     ]
    }
   ],
   "source": [
    "series= energyPrices['LNG'].astype('float64')\n",
    "exog= energyPrices['WTI'].astype('float64')\n",
    "model = ARIMA(endog=series, exog=exog, order=(1,1,0))\n",
    "model_fit = model.fit(disp=0)\n",
    "# print(model_fit.summary())\n",
    "# plot residual errors\n",
    "residuals = pd.DataFrame(model_fit.resid)\n",
    "residuals.plot()\n",
    "plt.show()\n",
    "residuals.plot(kind='kde')\n",
    "plt.show()\n",
    "print(residuals.describe())"
   ]
  },
  {
   "cell_type": "code",
   "execution_count": 291,
   "metadata": {},
   "outputs": [],
   "source": [
    "X1 = series.values\n",
    "X2= exog.values\n",
    "size = int(len(X1) * 0.9)\n",
    "compsize= int(len(X1) * 0.1)\n",
    "trainEndo, testEndo = X1[0:size], X1[size:]\n",
    "trainExog, testExog = X2[0:size], X2[size:]"
   ]
  },
  {
   "cell_type": "code",
   "execution_count": 292,
   "metadata": {},
   "outputs": [],
   "source": [
    "# define a new variable using train, but they're not the same variable\n",
    "historyEndo = [x for x in trainEndo]\n",
    "historyExog = [x for x in trainExog]"
   ]
  },
  {
   "cell_type": "code",
   "execution_count": 293,
   "metadata": {},
   "outputs": [],
   "source": [
    "#instantiate empty list\n",
    "predictions = list()\n",
    "\n",
    "for t in range(len(testEndo)):\n",
    "    model = ARIMA(endog=historyEndo, order=(0,0,0))\n",
    "#     , exog=historyExog\n",
    "    model_fit = model.fit(disp=0)\n",
    "    output = model_fit.forecast(steps=1)\n",
    "#     exog= np.array(testExog[t:t+1]\n",
    "    yhat = output[0]\n",
    "    predictions.append(yhat)\n",
    "    obs = testEndo[t]\n",
    "#     obsexog = testExog[t]\n",
    "    historyEndo.append(obs)\n",
    "#     historyExog.append(obsexog)"
   ]
  },
  {
   "cell_type": "code",
   "execution_count": 294,
   "metadata": {},
   "outputs": [
    {
     "data": {
      "image/png": "[encoded data removed]",
      "text/plain": [
       "<Figure size 432x288 with 1 Axes>"
      ]
     },
     "metadata": {
      "needs_background": "light"
     },
     "output_type": "display_data"
    }
   ],
   "source": [
    "plt.plot(testEndo)\n",
    "plt.plot(predictions, color='red')\n",
    "plt.show()"
   ]
  },
  {
   "cell_type": "code",
   "execution_count": 295,
   "metadata": {},
   "outputs": [
    {
     "name": "stdout",
     "output_type": "stream",
     "text": [
      "9.105782213426991\n"
     ]
    }
   ],
   "source": [
    "error = mean_squared_error(testEndo, predictions)\n",
    "print(error)"
   ]
  },
  {
   "cell_type": "code",
   "execution_count": 296,
   "metadata": {},
   "outputs": [
    {
     "data": {
      "text/plain": [
       "[<matplotlib.lines.Line2D at 0x1c4faa0198>]"
      ]
     },
     "execution_count": 296,
     "metadata": {},
     "output_type": "execute_result"
    },
    {
     "data": {
      "image/png": "[encoded data removed]",
      "text/plain": [
       "<Figure size 432x288 with 1 Axes>"
      ]
     },
     "metadata": {
      "needs_background": "light"
     },
     "output_type": "display_data"
    }
   ],
   "source": [
    "plt.plot(predictions)"
   ]
  },
  {
   "cell_type": "code",
   "execution_count": 297,
   "metadata": {
    "scrolled": true
   },
   "outputs": [
    {
     "data": {
      "text/plain": [
       "<matplotlib.axes._subplots.AxesSubplot at 0x1c5011bc88>"
      ]
     },
     "execution_count": 297,
     "metadata": {},
     "output_type": "execute_result"
    },
    {
     "data": {
      "image/png": "[encoded data removed]",
      "text/plain": [
       "<Figure size 432x288 with 1 Axes>"
      ]
     },
     "metadata": {
      "needs_background": "light"
     },
     "output_type": "display_data"
    }
   ],
   "source": [
    "energyPrices['LNG'][-14:].plot()"
   ]
  },
  {
   "cell_type": "code",
   "execution_count": 298,
   "metadata": {
    "scrolled": true
   },
   "outputs": [
    {
     "data": {
      "text/plain": [
       "<matplotlib.axes._subplots.AxesSubplot at 0x1c506a1400>"
      ]
     },
     "execution_count": 298,
     "metadata": {},
     "output_type": "execute_result"
    },
    {
     "data": {
      "image/png": "[encoded data removed]",
      "text/plain": [
       "<Figure size 432x288 with 1 Axes>"
      ]
     },
     "metadata": {
      "needs_background": "light"
     },
     "output_type": "display_data"
    }
   ],
   "source": [
    "energyPrices['WTI'][-14:].plot()"
   ]
  },
  {
   "cell_type": "code",
   "execution_count": null,
   "metadata": {},
   "outputs": [],
   "source": []
  },
  {
   "cell_type": "code",
   "execution_count": null,
   "metadata": {},
   "outputs": [],
   "source": []
  },
  {
   "cell_type": "code",
   "execution_count": null,
   "metadata": {},
   "outputs": [],
   "source": []
  },
  {
   "cell_type": "markdown",
   "metadata": {},
   "source": [
    "# Notes "
   ]
  },
  {
   "cell_type": "markdown",
   "metadata": {},
   "source": [
    "something to consider maybe to go into seconds trades predicting forward seconds , could be well suited for trading electricty... need better data\n",
    "\n",
    "faster data\n",
    "\n",
    "Simpler model with higher interpretability? Viariance bias trade-off\n",
    "\n",
    "\n",
    "monte carlo simulations in the background\n",
    "\n",
    "change the weights sdee what happpens with two"
   ]
  },
  {
   "cell_type": "code",
   "execution_count": null,
   "metadata": {},
   "outputs": [],
   "source": []
  }
 ],
 "metadata": {
  "kernelspec": {
   "display_name": "learn-env",
   "language": "python",
   "name": "learn-env"
  },
  "language_info": {
   "codemirror_mode": {
    "name": "ipython",
    "version": 3
   },
   "file_extension": ".py",
   "mimetype": "text/x-python",
   "name": "python",
   "nbconvert_exporter": "python",
   "pygments_lexer": "ipython3",
   "version": "3.6.8"
  }
 },
 "nbformat": 4,
 "nbformat_minor": 2
}
